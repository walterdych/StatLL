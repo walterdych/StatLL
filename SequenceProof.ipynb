{
 "cells": [
  {
   "cell_type": "code",
   "execution_count": 2,
   "metadata": {},
   "outputs": [],
   "source": [
    "from sympy import symbols, solve, Eq"
   ]
  },
  {
   "cell_type": "code",
   "execution_count": 12,
   "metadata": {},
   "outputs": [
    {
     "ename": "TypeError",
     "evalue": "cannot determine truth value of Relational",
     "output_type": "error",
     "traceback": [
      "\u001b[1;31m---------------------------------------------------------------------------\u001b[0m",
      "\u001b[1;31mTypeError\u001b[0m                                 Traceback (most recent call last)",
      "Cell \u001b[1;32mIn[12], line 18\u001b[0m\n\u001b[0;32m     15\u001b[0m                     \u001b[38;5;28;01mbreak\u001b[39;00m\n\u001b[0;32m     16\u001b[0m     \u001b[38;5;28;01mreturn\u001b[39;00m solutions\n\u001b[1;32m---> 18\u001b[0m solutions \u001b[38;5;241m=\u001b[39m \u001b[43mfind_feasible_solution\u001b[49m\u001b[43m(\u001b[49m\u001b[38;5;241;43m1000\u001b[39;49m\u001b[43m)\u001b[49m  \u001b[38;5;66;03m# Call the function with a maximum usage limit for the piece [4]\u001b[39;00m\n",
      "Cell \u001b[1;32mIn[12], line 12\u001b[0m, in \u001b[0;36mfind_feasible_solution\u001b[1;34m(max_single_piece_usage)\u001b[0m\n\u001b[0;32m     10\u001b[0m result \u001b[38;5;241m=\u001b[39m solve(total_length_equation\u001b[38;5;241m.\u001b[39msubs(x8, val), (x1, x2, x3, x4, x5, x6, x7), \u001b[38;5;28mdict\u001b[39m\u001b[38;5;241m=\u001b[39m\u001b[38;5;28;01mTrue\u001b[39;00m)\n\u001b[0;32m     11\u001b[0m \u001b[38;5;28;01mif\u001b[39;00m result:\n\u001b[1;32m---> 12\u001b[0m     \u001b[38;5;28;01mif\u001b[39;00m \u001b[38;5;28;43mall\u001b[39;49m\u001b[43m(\u001b[49m\u001b[43mres\u001b[49m\u001b[43m[\u001b[49m\u001b[43mx\u001b[49m\u001b[43m]\u001b[49m\u001b[38;5;241;43m.\u001b[39;49m\u001b[43mevalf\u001b[49m\u001b[43m(\u001b[49m\u001b[43m)\u001b[49m\u001b[43m \u001b[49m\u001b[38;5;241;43m>\u001b[39;49m\u001b[38;5;241;43m=\u001b[39;49m\u001b[43m \u001b[49m\u001b[38;5;241;43m0\u001b[39;49m\u001b[43m \u001b[49m\u001b[38;5;28;43;01mfor\u001b[39;49;00m\u001b[43m \u001b[49m\u001b[43mx\u001b[49m\u001b[43m \u001b[49m\u001b[38;5;129;43;01min\u001b[39;49;00m\u001b[43m \u001b[49m\u001b[43m(\u001b[49m\u001b[43mx1\u001b[49m\u001b[43m,\u001b[49m\u001b[43m \u001b[49m\u001b[43mx2\u001b[49m\u001b[43m,\u001b[49m\u001b[43m \u001b[49m\u001b[43mx3\u001b[49m\u001b[43m,\u001b[49m\u001b[43m \u001b[49m\u001b[43mx4\u001b[49m\u001b[43m,\u001b[49m\u001b[43m \u001b[49m\u001b[43mx5\u001b[49m\u001b[43m,\u001b[49m\u001b[43m \u001b[49m\u001b[43mx6\u001b[49m\u001b[43m,\u001b[49m\u001b[43m \u001b[49m\u001b[43mx7\u001b[49m\u001b[43m)\u001b[49m\u001b[43m \u001b[49m\u001b[38;5;28;43;01mfor\u001b[39;49;00m\u001b[43m \u001b[49m\u001b[43mres\u001b[49m\u001b[43m \u001b[49m\u001b[38;5;129;43;01min\u001b[39;49;00m\u001b[43m \u001b[49m\u001b[43mresult\u001b[49m\u001b[43m)\u001b[49m:\n\u001b[0;32m     13\u001b[0m         solutions\u001b[38;5;241m.\u001b[39mextend(result)\n\u001b[0;32m     14\u001b[0m         \u001b[38;5;28;01mif\u001b[39;00m \u001b[38;5;28mlen\u001b[39m(solutions) \u001b[38;5;241m>\u001b[39m \u001b[38;5;241m5\u001b[39m:  \u001b[38;5;66;03m# Limit the number of solutions for simplicity\u001b[39;00m\n",
      "File \u001b[1;32m~\\AppData\\Roaming\\Python\\Python311\\site-packages\\sympy\\core\\relational.py:510\u001b[0m, in \u001b[0;36mRelational.__bool__\u001b[1;34m(self)\u001b[0m\n\u001b[0;32m    509\u001b[0m \u001b[38;5;28;01mdef\u001b[39;00m \u001b[38;5;21m__bool__\u001b[39m(\u001b[38;5;28mself\u001b[39m):\n\u001b[1;32m--> 510\u001b[0m     \u001b[38;5;28;01mraise\u001b[39;00m \u001b[38;5;167;01mTypeError\u001b[39;00m(\u001b[38;5;124m\"\u001b[39m\u001b[38;5;124mcannot determine truth value of Relational\u001b[39m\u001b[38;5;124m\"\u001b[39m)\n",
      "\u001b[1;31mTypeError\u001b[0m: cannot determine truth value of Relational"
     ]
    }
   ],
   "source": [
    "# Define variables for each type of piece and their count\n",
    "x1, x2, x3, x4, x5, x6, x7, x8 = symbols('x1 x2 x3 x4 x5 x6 x7 x8', integer=True)\n",
    "\n",
    "# Equation representing total length of the sequence using pieces\n",
    "total_length_equation = Eq(4*x1 + 3*x2 + 3*x3 + 3*x4 + 2*x5 + 2*x6 + 2*x7 + 1*x8, 576)\n",
    "\n",
    "def find_feasible_solution(max_single_piece_usage):\n",
    "    solutions = []\n",
    "    for val in range(100):  # Check different values to find a solution\n",
    "        result = solve(total_length_equation.subs(x8, val), (x1, x2, x3, x4, x5, x6, x7), dict=True)\n",
    "        if result:\n",
    "            if all(res[x].evalf() >= 0 for x in (x1, x2, x3, x4, x5, x6, x7) for res in result):\n",
    "                solutions.extend(result)\n",
    "                if len(solutions) > 5:  # Limit the number of solutions for simplicity\n",
    "                    break\n",
    "    return solutions\n",
    "\n",
    "solutions = find_feasible_solution(1000)  # Call the function with a maximum usage limit for the piece [4]"
   ]
  },
  {
   "cell_type": "code",
   "execution_count": 6,
   "metadata": {},
   "outputs": [
    {
     "ename": "NameError",
     "evalue": "name 'solutions' is not defined",
     "output_type": "error",
     "traceback": [
      "\u001b[1;31m---------------------------------------------------------------------------\u001b[0m",
      "\u001b[1;31mNameError\u001b[0m                                 Traceback (most recent call last)",
      "Cell \u001b[1;32mIn[6], line 2\u001b[0m\n\u001b[0;32m      1\u001b[0m \u001b[38;5;66;03m# Choose one solution and analyze the distribution of numbers\u001b[39;00m\n\u001b[1;32m----> 2\u001b[0m \u001b[38;5;28;01mif\u001b[39;00m \u001b[43msolutions\u001b[49m:\n\u001b[0;32m      3\u001b[0m     chosen_solution \u001b[38;5;241m=\u001b[39m solutions[\u001b[38;5;241m0\u001b[39m]  \u001b[38;5;66;03m# Choose the first feasible solution\u001b[39;00m\n\u001b[0;32m      4\u001b[0m     \u001b[38;5;66;03m# Calculate the number of each digit (1, 2, 3, 4) in the sequence\u001b[39;00m\n",
      "\u001b[1;31mNameError\u001b[0m: name 'solutions' is not defined"
     ]
    }
   ],
   "source": [
    "# Choose one solution and analyze the distribution of numbers\n",
    "if solutions:\n",
    "    chosen_solution = solutions[0]  # Choose the first feasible solution\n",
    "    # Calculate the number of each digit (1, 2, 3, 4) in the sequence\n",
    "    numbers_count = {\n",
    "        1: 4*chosen_solution[x1] + 2*chosen_solution[x2] + 2*chosen_solution[x3] + 2*chosen_solution[x4] + chosen_solution[x5] + chosen_solution[x6],\n",
    "        2: chosen_solution[x2] + chosen_solution[x3] + chosen_solution[x4] + 2*chosen_solution[x7],\n",
    "        3: chosen_solution[x5] + chosen_solution[x6],\n",
    "        4: chosen_solution[x8]\n",
    "    }\n",
    "    total_numbers = sum(numbers_count.values())\n",
    "    frequency = {key: value / total_numbers for key, value in numbers_count.items()}\n",
    "    \n",
    "    print(\"Solution:\", chosen_solution)\n",
    "    print(\"Number Counts:\", numbers_count)\n",
    "    print(\"Frequencies:\", frequency)\n",
    "else:\n",
    "    print(\"No feasible solution found within the constraints.\")"
   ]
  },
  {
   "cell_type": "code",
   "execution_count": null,
   "metadata": {},
   "outputs": [],
   "source": []
  }
 ],
 "metadata": {
  "kernelspec": {
   "display_name": "Python 3",
   "language": "python",
   "name": "python3"
  },
  "language_info": {
   "codemirror_mode": {
    "name": "ipython",
    "version": 3
   },
   "file_extension": ".py",
   "mimetype": "text/x-python",
   "name": "python",
   "nbconvert_exporter": "python",
   "pygments_lexer": "ipython3",
   "version": "3.11.7"
  }
 },
 "nbformat": 4,
 "nbformat_minor": 2
}
