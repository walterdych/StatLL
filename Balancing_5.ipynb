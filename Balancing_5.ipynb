{
 "cells": [
  {
   "cell_type": "code",
   "execution_count": 8,
   "metadata": {},
   "outputs": [],
   "source": [
    "from itertools import product, islice\n",
    "from tqdm import tqdm\n",
    "import pandas as pd\n",
    "import numpy as np\n",
    "from collections import defaultdict"
   ]
  },
  {
   "cell_type": "code",
   "execution_count": 9,
   "metadata": {},
   "outputs": [],
   "source": [
    "word_seq = ['ABC', 'DEF', 'GHI', 'JKL', 'ABC', 'DEF', 'JKL', 'GHI', 'ABC', 'GHI', 'DEF', 'JKL', 'ABC', 'GHI', 'JKL', 'DEF', 'ABC', 'JKL', 'DEF', 'GHI', 'ABC', 'JKL', 'GHI', 'DEF', \n",
    " 'DEF', 'ABC', 'GHI', 'JKL', 'DEF', 'ABC', 'JKL', 'GHI', 'DEF', 'GHI', 'ABC', 'JKL', 'DEF', 'GHI', 'JKL', 'ABC', 'DEF', 'JKL', 'ABC', 'GHI', 'DEF', 'JKL', 'GHI', 'ABC', \n",
    " 'GHI', 'ABC', 'DEF', 'JKL', 'GHI', 'ABC', 'JKL', 'DEF', 'GHI', 'DEF', 'ABC', 'JKL', 'GHI', 'DEF', 'JKL', 'ABC', 'GHI', 'JKL', 'ABC', 'DEF', 'GHI', 'JKL', 'DEF', 'ABC', \n",
    " 'JKL', 'ABC', 'DEF', 'GHI', 'JKL', 'ABC', 'GHI', 'DEF', 'JKL', 'DEF', 'ABC', 'GHI', 'JKL', 'DEF', 'GHI', 'ABC', 'JKL', 'GHI', 'ABC', 'DEF', 'JKL', 'GHI', 'DEF', 'ABC']\n",
    "\n",
    "word_seq = word_seq * 2\n"
   ]
  },
  {
   "cell_type": "code",
   "execution_count": 10,
   "metadata": {},
   "outputs": [],
   "source": [
    "def interweave(syllables, pattern):\n",
    "    # Ensure syllables are broken into individual letters\n",
    "    flattened_syllables = [letter for word in syllables for letter in word]\n",
    "    \n",
    "    # Create the interweaved sequence\n",
    "    interweaved = []\n",
    "    for letter, silence in zip(flattened_syllables, pattern):\n",
    "        interweaved.append(letter)\n",
    "        interweaved.append(silence)\n",
    "    \n",
    "    return interweaved"
   ]
  },
  {
   "cell_type": "code",
   "execution_count": 11,
   "metadata": {},
   "outputs": [
    {
     "name": "stderr",
     "output_type": "stream",
     "text": [
      "  0%|          | 168650976/39402006196394479212279040100143613805079739270465446667948293404245721771497210611414266254884915640806627990306816 [05:15<18465342001173570357812694250612087244061756401916164875604565712321507856294423603256339968172915821557841:55:12, 592732.14it/s]"
     ]
    }
   ],
   "source": [
    "def generate_combinations(element_count, total_sum, max_sequences=None):\n",
    "\n",
    "    # Since the ratios are 1:2:3:4, we look for combinations of these numbers\n",
    "    ratios = [1, 2, 3, 4]\n",
    "    \n",
    "    # Generate all possible products of these ratios for the given number of elements\n",
    "    possible_combinations = product(ratios, repeat=element_count)\n",
    "    \n",
    "    # Calculate the total number of combinations\n",
    "    total_combinations = len(ratios) ** element_count\n",
    "    \n",
    "    # If a maximum number of sequences is specified, limit the number of sequences\n",
    "    if max_sequences is not None:\n",
    "        possible_combinations = islice(possible_combinations, max_sequences)\n",
    "        total_combinations = min(max_sequences, total_combinations)\n",
    "    \n",
    "    # Wrap the iterable with tqdm\n",
    "    possible_combinations = tqdm(possible_combinations, total=total_combinations)\n",
    "    \n",
    "    # Filter combinations that sum up to the total sum\n",
    "    valid_combinations = [combo for combo in possible_combinations if sum(combo) == total_sum]\n",
    "    \n",
    "    return valid_combinations\n",
    "\n",
    "# Generate sequences and save to a dataframe\n",
    "sequences = []\n",
    "for combination in generate_combinations(len(word_seq), len(word_seq) * 2):\n",
    "    interweaved = interweave(word_seq, combination)\n",
    "    sequences.append(interweaved)\n",
    "\n",
    "df = pd.DataFrame(sequences)"
   ]
  },
  {
   "cell_type": "code",
   "execution_count": null,
   "metadata": {},
   "outputs": [],
   "source": []
  }
 ],
 "metadata": {
  "kernelspec": {
   "display_name": "Python 3",
   "language": "python",
   "name": "python3"
  },
  "language_info": {
   "codemirror_mode": {
    "name": "ipython",
    "version": 3
   },
   "file_extension": ".py",
   "mimetype": "text/x-python",
   "name": "python",
   "nbconvert_exporter": "python",
   "pygments_lexer": "ipython3",
   "version": "3.11.7"
  }
 },
 "nbformat": 4,
 "nbformat_minor": 2
}
