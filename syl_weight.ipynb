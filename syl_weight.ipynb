{
 "cells": [
  {
   "cell_type": "code",
   "execution_count": 1,
   "metadata": {},
   "outputs": [],
   "source": [
    "import pandas as pd\n",
    "import numpy as np\n",
    "from itertools import product"
   ]
  },
  {
   "cell_type": "code",
   "execution_count": 10,
   "metadata": {},
   "outputs": [],
   "source": [
    "element_count = 7"
   ]
  },
  {
   "cell_type": "code",
   "execution_count": 11,
   "metadata": {},
   "outputs": [],
   "source": [
    "def generate_combinations(element_count, total_sum):\n",
    "\n",
    "    # Since the ratios are 1:2:3:4, we look for combinations of these numbers\n",
    "    ratios = [1, 2, 3, 4]\n",
    "    \n",
    "    # Generate all possible products of these ratios for the given number of elements\n",
    "    possible_combinations = product(ratios, repeat=element_count)\n",
    "    \n",
    "    # Filter combinations that sum up to the total sum\n",
    "    valid_combinations = [combo for combo in possible_combinations if sum(combo) == total_sum]\n",
    "    \n",
    "    return valid_combinations\n",
    "\n",
    "# Function to group numbers until they add up to 4\n",
    "def group_numbers(pattern):\n",
    "    groups = []\n",
    "    current_group = []\n",
    "    current_sum = 0\n",
    "\n",
    "    for num in pattern:\n",
    "        if current_sum + num > 4:\n",
    "            groups.append(current_group)\n",
    "            current_group = [num]\n",
    "            current_sum = num\n",
    "        else:\n",
    "            current_group.append(num)\n",
    "            current_sum += num\n",
    "\n",
    "    groups.append(current_group)\n",
    "    return groups\n",
    "\n",
    "# Function to generate the pattern of silence\n",
    "def silence_pattern(pattern):\n",
    "    if np.isnan(pattern).any():\n",
    "        return []\n",
    "    return [num - 1 for num in pattern if num > 0]\n"
   ]
  },
  {
   "cell_type": "code",
   "execution_count": 12,
   "metadata": {},
   "outputs": [],
   "source": [
    "df = pd.DataFrame(generate_combinations(element_count=element_count, total_sum=12))\n",
    "\n",
    "column_len = len(df.columns)   \n",
    "\n",
    "# show the pattern in the 6th column\n",
    "df['pattern'] = df.apply(lambda x: ''.join(str(x[i]) for i in range(column_len)), axis=1)\n",
    "\n",
    "# Convert patterns from strings to lists of integers\n",
    "df['pattern'] = df['pattern'].apply(lambda pattern: [int(num) for num in str(pattern)])\n",
    "\n",
    "# Apply the function to each pattern in the DataFrame\n",
    "df['groups'] = df['pattern'].apply(group_numbers)\n",
    "\n",
    "# Label patterns as \"simple\" or \"complex\"\n",
    "df['label'] = df['groups'].apply(lambda groups: 'simple' if all(sum(group) == 4 for group in groups) else 'complex')"
   ]
  },
  {
   "cell_type": "code",
   "execution_count": 13,
   "metadata": {},
   "outputs": [],
   "source": [
    "# Create a DataFrame for simple patterns\n",
    "simple_df = df[df['label'] == 'simple'].reset_index(drop=True)\n",
    "\n",
    "# Create a DataFrame for complex patterns\n",
    "complex_df = df[df['label'] == 'complex'].reset_index(drop=True)\n",
    "\n",
    "simple_df = simple_df.drop(columns=['groups', 'label'])\n",
    "complex_df = complex_df.drop(columns=['groups', 'label'])\n",
    "\n",
    "# Concatenate simple and complex patterns into their own columns in a new DataFrame\n",
    "combo_chart = pd.concat([simple_df['pattern'], complex_df['pattern']], axis=1)\n",
    "combo_chart.columns = ['simple', 'complex']\n",
    "\n",
    "# Apply the function to the 'simple' and 'complex' columns\n",
    "combo_chart['simple_silence'] = combo_chart['simple'].apply(silence_pattern)\n",
    "combo_chart['complex_silence'] = combo_chart['complex'].apply(silence_pattern)\n",
    "\n",
    "combo_chart = combo_chart[['simple', 'simple_silence', 'complex', 'complex_silence']]\n",
    "\n",
    "# Save the DataFrame to a CSV file\n",
    "combo_chart.to_csv(f'combo_chart_{element_count}.csv', index=False)"
   ]
  }
 ],
 "metadata": {
  "kernelspec": {
   "display_name": "Python 3",
   "language": "python",
   "name": "python3"
  },
  "language_info": {
   "codemirror_mode": {
    "name": "ipython",
    "version": 3
   },
   "file_extension": ".py",
   "mimetype": "text/x-python",
   "name": "python",
   "nbconvert_exporter": "python",
   "pygments_lexer": "ipython3",
   "version": "3.11.7"
  }
 },
 "nbformat": 4,
 "nbformat_minor": 2
}
