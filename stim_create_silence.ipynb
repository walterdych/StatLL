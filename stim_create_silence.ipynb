{
 "cells": [
  {
   "cell_type": "code",
   "execution_count": 37,
   "metadata": {},
   "outputs": [],
   "source": [
    "import pandas as pd\n",
    "import ast\n",
    "import random\n",
    "import numpy as np\n",
    "from pydub import AudioSegment\n",
    "import os"
   ]
  },
  {
   "cell_type": "code",
   "execution_count": 38,
   "metadata": {},
   "outputs": [],
   "source": [
    "seq_num = 1 # 1, 2, or 3\n",
    "combo_num = 6 # 5, 6, or 7"
   ]
  },
  {
   "cell_type": "code",
   "execution_count": 39,
   "metadata": {},
   "outputs": [],
   "source": [
    "if seq_num == 1:\n",
    "    syllable_list = ['tu', 'pi', 'ro', 'go', 'la', 'bu', 'bi', 'da', 'ku', 'pa', 'di', 'ta']\n",
    "    wordlist = ['tupiro', 'golabu', 'bidaku', 'padita']\n",
    "    target_syll = 'bu'\n",
    "    target_syll_idx = 5  # Adjusted for 0-based indexing\n",
    "\n",
    "elif seq_num == 2:\n",
    "    syllable_list = ['ra', 'ge', 'do', 'fi', 'lo', 'za', 'yu', 'ma', 'le', 'bo', 'ka', 'mi']\n",
    "    wordlist = ['ragedo', 'filoza', 'yumale', 'bokami']\n",
    "    target_syll = 'do'\n",
    "    target_syll_idx = 2  # Adjusted for 0-based indexing\n",
    "\n",
    "    # Adjusted for 0-based indexing. Python ranges exclude the last number, so no need to subtract 1 at the end\n",
    "    word_item_syllList = [list(range(3, 6)), list(range(6, 9))]\n",
    "    partword_item_syllList = [[11, 0, 1], [2, 9, 10]]\n",
    "\n",
    "elif seq_num == 3:\n",
    "    syllable_list = ['pu', 'wa', 'lo', 'ti', 'zu', 'ye', 'be', 'mo', 'ra', 'to', 'he', 'du']\n",
    "    wordlist = ['puwalo', 'tizuye', 'bemora', 'tohedu']\n",
    "    target_syll = 'du'\n",
    "    target_syll_idx = 11  # Adjusted for 0-based indexing\n",
    "\n",
    "    word_item_syllList = [list(range(0, 3)), list(range(6, 9))]\n",
    "    partword_item_syllList = [[11, 3, 4], [5, 9, 10]]"
   ]
  },
  {
   "cell_type": "code",
   "execution_count": 40,
   "metadata": {},
   "outputs": [],
   "source": [
    "# Read the CSV file\n",
    "df = pd.read_csv(f'stim_conditions/combo_chart_{combo_num}.csv')\n",
    "# Extract the patterns, convert them to lists, and convert the elements of the lists to integers\n",
    "simple_patterns = [[int(x) for x in ast.literal_eval(pattern)] for pattern in df['simple'].dropna().tolist()]\n",
    "complex_patterns = [[int(x) for x in ast.literal_eval(pattern)] for pattern in df['complex'].dropna().tolist()]\n",
    "simple_silence_patterns = [[int(x) for x in ast.literal_eval(pattern)] for pattern in df['simple_silence'].dropna().tolist()]\n",
    "complex_silence_patterns = [[int(x) for x in ast.literal_eval(pattern)] for pattern in df['complex_silence'].dropna().tolist()]\n",
    "\n",
    "# Pick a simple pattern\n",
    "simple_pattern = random.choice(simple_patterns)\n",
    "# Get corresponding silence pattern stored in adjacent column\n",
    "simple_silence_pattern = df['simple_silence'][simple_patterns.index(simple_pattern)]\n",
    "\n",
    "# Pick a complex pattern\n",
    "complex_pattern = random.choice(complex_patterns)\n",
    "# Get corresponding silence pattern stored in adjacent column\n",
    "complex_silence_pattern = df['complex_silence'][complex_patterns.index(complex_pattern)]\n",
    "# Extract the silence patterns, convert them to lists, and convert the elements of the lists to integers\n",
    "simple_silence_pattern = [int(x) for x in ast.literal_eval(df['simple_silence'].dropna().tolist()[0])]\n",
    "complex_silence_pattern = [int(x) for x in ast.literal_eval(df['complex_silence'].dropna().tolist()[0])]"
   ]
  },
  {
   "cell_type": "code",
   "execution_count": 41,
   "metadata": {},
   "outputs": [],
   "source": [
    "# Define the duration of a silence value of 1\n",
    "silence_duration_unit = 250  # in milliseconds\n",
    "\n",
    "# Function to create a stimulus\n",
    "def create_stimulus(pattern, silence, syllables, condition):\n",
    "    stimulus = AudioSegment.empty()  # Create an empty audio segment\n",
    "\n",
    "    # Repeat the pattern and silence twice\n",
    "    pattern = pattern * 2\n",
    "    silence = silence * 2\n",
    "\n",
    "    for i in range(len(pattern)):\n",
    "        # Select the syllable\n",
    "        syllable = syllables[i]\n",
    "\n",
    "        # Combine the syllable files\n",
    "        syllable_file = AudioSegment.from_file(os.path.join('C:/Users/cosmo/OneDrive/Desktop/Tools/syllable_weights/stim/', 'f1_' + syllable + '.wav'), format='wav')\n",
    "\n",
    "        # Append the syllable to the stimulus\n",
    "        stimulus += syllable_file\n",
    "\n",
    "        # Add silence after each syllable, except the last one\n",
    "        if i < len(silence):\n",
    "            silence_duration = silence[i] * silence_duration_unit\n",
    "            silence_segment = AudioSegment.silent(duration=silence_duration)\n",
    "            stimulus += silence_segment\n",
    "\n",
    "    # Export the stimulus\n",
    "    stimulus.export(f\"{condition}_{seq_num}_silence_stimulus.wav\", format='wav')\n",
    "\n",
    "# Create a stimulus for the selected simple pattern\n",
    "create_stimulus(simple_pattern, simple_silence_pattern, syllable_list, condition='simple')\n",
    "\n",
    "# Create a stimulus for the selected complex pattern\n",
    "create_stimulus(complex_pattern, complex_silence_pattern, syllable_list, condition='complex')"
   ]
  },
  {
   "cell_type": "code",
   "execution_count": null,
   "metadata": {},
   "outputs": [],
   "source": []
  }
 ],
 "metadata": {
  "kernelspec": {
   "display_name": "Python 3",
   "language": "python",
   "name": "python3"
  },
  "language_info": {
   "codemirror_mode": {
    "name": "ipython",
    "version": 3
   },
   "file_extension": ".py",
   "mimetype": "text/x-python",
   "name": "python",
   "nbconvert_exporter": "python",
   "pygments_lexer": "ipython3",
   "version": "3.11.7"
  }
 },
 "nbformat": 4,
 "nbformat_minor": 2
}
