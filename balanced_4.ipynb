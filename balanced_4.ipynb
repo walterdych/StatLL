{
 "cells": [
  {
   "cell_type": "code",
   "execution_count": 6,
   "metadata": {},
   "outputs": [],
   "source": [
    "import itertools\n",
    "import random\n",
    "import ast\n",
    "import pandas as pd\n",
    "import numpy as np\n",
    "from collections import defaultdict"
   ]
  },
  {
   "cell_type": "code",
   "execution_count": 7,
   "metadata": {},
   "outputs": [],
   "source": [
    "word_seq = ['ABC', 'DEF', 'GHI', 'JKL', 'ABC', 'DEF', 'JKL', 'GHI', 'ABC', 'GHI', 'DEF', 'JKL', 'ABC', 'GHI', 'JKL', 'DEF', 'ABC', 'JKL', 'DEF', 'GHI', 'ABC', 'JKL', 'GHI', 'DEF', \n",
    " 'DEF', 'ABC', 'GHI', 'JKL', 'DEF', 'ABC', 'JKL', 'GHI', 'DEF', 'GHI', 'ABC', 'JKL', 'DEF', 'GHI', 'JKL', 'ABC', 'DEF', 'JKL', 'ABC', 'GHI', 'DEF', 'JKL', 'GHI', 'ABC', \n",
    " 'GHI', 'ABC', 'DEF', 'JKL', 'GHI', 'ABC', 'JKL', 'DEF', 'GHI', 'DEF', 'ABC', 'JKL', 'GHI', 'DEF', 'JKL', 'ABC', 'GHI', 'JKL', 'ABC', 'DEF', 'GHI', 'JKL', 'DEF', 'ABC', \n",
    " 'JKL', 'ABC', 'DEF', 'GHI', 'JKL', 'ABC', 'GHI', 'DEF', 'JKL', 'DEF', 'ABC', 'GHI', 'JKL', 'DEF', 'GHI', 'ABC', 'JKL', 'GHI', 'ABC', 'DEF', 'JKL', 'GHI', 'DEF', 'ABC']\n",
    "\n",
    "word_seq = word_seq * 2"
   ]
  },
  {
   "cell_type": "code",
   "execution_count": 10,
   "metadata": {},
   "outputs": [],
   "source": [
    "def interweave(syllables, pattern):\n",
    "    # Ensure syllables are broken into individual letters\n",
    "    flattened_syllables = [letter for word in syllables for letter in word]\n",
    "    \n",
    "    # Create the interweaved sequence\n",
    "    interweaved = []\n",
    "    for letter, silence in zip(flattened_syllables, pattern):\n",
    "        interweaved.append(letter)\n",
    "        interweaved.append(silence)\n",
    "    \n",
    "    return interweaved\n",
    "\n",
    "def generate_simple_pattern(length):\n",
    "    units = [[1, 1, 1, 1], [1, 2, 1], [2, 1, 1], [1, 1, 2], [1, 3], [3,1], [2, 2], [4]]\n",
    "    pattern = []\n",
    "    while len(pattern) < length:\n",
    "        pattern.extend(random.choice(units))\n",
    "    print(pattern)\n",
    "    return pattern[:length]\n",
    "\n",
    "def generate_complex_pattern(length):\n",
    "    base_pattern = [1, 2, 1]\n",
    "    pattern = []\n",
    "    increment = 0\n",
    "    while len(pattern) < length:\n",
    "        new_pattern = [x + increment for x in base_pattern]\n",
    "        pattern.extend(new_pattern)\n",
    "        increment += 1\n",
    "    print(pattern)\n",
    "    return pattern[:length]\n",
    "\n",
    "def pick_pattern_template_and_syllables(condition):\n",
    "    # Choose appropriate patterns based on the condition\n",
    "    patterns = generate_simple_pattern(96) if condition == 'simple' else generate_complex_pattern(96)\n",
    "    # Flatten the patterns if they are lists of lists\n",
    "    patterns = [item for sublist in patterns for item in sublist]\n",
    "    # Randomly shuffle the patterns\n",
    "    random.shuffle(patterns)\n",
    "\n",
    "    # Initialize the dictionary to keep track of metric values\n",
    "    metric_values = {1: 0, 2: 0, 3: 0, 4: 0}\n",
    "    selected_patterns = []\n",
    "    last_metric_value = None\n",
    "\n",
    "    for pattern in patterns:\n",
    "        # Convert pattern to string if it's an integer\n",
    "        pattern = str(pattern) if isinstance(pattern, int) else pattern\n",
    "\n",
    "        # Calculate the metric value count for the current pattern\n",
    "        metric_value_count = {1: pattern.count('1'), 2: pattern.count('2'), 3: pattern.count('3'), 4: pattern.count('4')}\n",
    "\n",
    "        # Check if the first metric value in the pattern is the same as the last used metric value\n",
    "        if pattern[0] == last_metric_value:\n",
    "            continue\n",
    "\n",
    "        # Check if adding the current pattern would maintain the balance of metric values\n",
    "        if all(metric_values[i] + metric_value_count[i] <= len(selected_patterns) // 4 + 1 for i in range(1, 5)):\n",
    "            # If the balance is maintained, add the pattern to the selected patterns and update the dictionary\n",
    "            selected_patterns.append(pattern)\n",
    "            for i in range(1, 5):\n",
    "                metric_values[i] += metric_value_count[i]\n",
    "\n",
    "            # Update the last used metric value\n",
    "            last_metric_value = pattern[-1]\n",
    "\n",
    "        # Stop when we have selected 576 patterns\n",
    "        if len(selected_patterns) == 576:\n",
    "            break\n",
    "\n",
    "    # Combine selected patterns into one string each\n",
    "    pattern = ''.join([str(x) for x in selected_patterns])\n",
    "    return pattern"
   ]
  },
  {
   "cell_type": "code",
   "execution_count": 11,
   "metadata": {},
   "outputs": [
    {
     "name": "stdout",
     "output_type": "stream",
     "text": [
      "[2, 2, 2, 2, 1, 3, 1, 3, 2, 2, 1, 3, 4, 4, 1, 3, 1, 1, 1, 1, 2, 2, 4, 1, 1, 1, 1, 1, 3, 1, 3, 1, 3, 4, 2, 2, 1, 3, 4, 1, 1, 1, 1, 4, 1, 1, 1, 1, 4, 4, 4, 1, 1, 1, 1, 4, 4, 4, 1, 3, 1, 3, 2, 2, 4, 1, 1, 1, 1, 1, 3, 2, 2, 1, 1, 1, 1, 1, 1, 1, 1, 1, 1, 1, 1, 1, 3, 4, 2, 2, 1, 1, 1, 1, 1, 3]\n"
     ]
    },
    {
     "ename": "TypeError",
     "evalue": "'int' object is not iterable",
     "output_type": "error",
     "traceback": [
      "\u001b[1;31m---------------------------------------------------------------------------\u001b[0m",
      "\u001b[1;31mTypeError\u001b[0m                                 Traceback (most recent call last)",
      "Cell \u001b[1;32mIn[11], line 1\u001b[0m\n\u001b[1;32m----> 1\u001b[0m interweaved_sequence \u001b[38;5;241m=\u001b[39m interweave(word_seq, \u001b[43mpick_pattern_template_and_syllables\u001b[49m\u001b[43m(\u001b[49m\u001b[38;5;124;43m'\u001b[39;49m\u001b[38;5;124;43msimple\u001b[39;49m\u001b[38;5;124;43m'\u001b[39;49m\u001b[43m)\u001b[49m)\n\u001b[0;32m      2\u001b[0m valid_pairs \u001b[38;5;241m=\u001b[39m [\n\u001b[0;32m      3\u001b[0m     (\u001b[38;5;124m'\u001b[39m\u001b[38;5;124mA\u001b[39m\u001b[38;5;124m'\u001b[39m, \u001b[38;5;124m'\u001b[39m\u001b[38;5;124mB\u001b[39m\u001b[38;5;124m'\u001b[39m), (\u001b[38;5;124m'\u001b[39m\u001b[38;5;124mB\u001b[39m\u001b[38;5;124m'\u001b[39m, \u001b[38;5;124m'\u001b[39m\u001b[38;5;124mC\u001b[39m\u001b[38;5;124m'\u001b[39m), (\u001b[38;5;124m'\u001b[39m\u001b[38;5;124mC\u001b[39m\u001b[38;5;124m'\u001b[39m, \u001b[38;5;124m'\u001b[39m\u001b[38;5;124mD\u001b[39m\u001b[38;5;124m'\u001b[39m), (\u001b[38;5;124m'\u001b[39m\u001b[38;5;124mC\u001b[39m\u001b[38;5;124m'\u001b[39m, \u001b[38;5;124m'\u001b[39m\u001b[38;5;124mG\u001b[39m\u001b[38;5;124m'\u001b[39m), (\u001b[38;5;124m'\u001b[39m\u001b[38;5;124mC\u001b[39m\u001b[38;5;124m'\u001b[39m, \u001b[38;5;124m'\u001b[39m\u001b[38;5;124mJ\u001b[39m\u001b[38;5;124m'\u001b[39m),\n\u001b[0;32m      4\u001b[0m     (\u001b[38;5;124m'\u001b[39m\u001b[38;5;124mD\u001b[39m\u001b[38;5;124m'\u001b[39m, \u001b[38;5;124m'\u001b[39m\u001b[38;5;124mE\u001b[39m\u001b[38;5;124m'\u001b[39m), (\u001b[38;5;124m'\u001b[39m\u001b[38;5;124mE\u001b[39m\u001b[38;5;124m'\u001b[39m, \u001b[38;5;124m'\u001b[39m\u001b[38;5;124mF\u001b[39m\u001b[38;5;124m'\u001b[39m), (\u001b[38;5;124m'\u001b[39m\u001b[38;5;124mF\u001b[39m\u001b[38;5;124m'\u001b[39m, \u001b[38;5;124m'\u001b[39m\u001b[38;5;124mG\u001b[39m\u001b[38;5;124m'\u001b[39m), (\u001b[38;5;124m'\u001b[39m\u001b[38;5;124mF\u001b[39m\u001b[38;5;124m'\u001b[39m, \u001b[38;5;124m'\u001b[39m\u001b[38;5;124mA\u001b[39m\u001b[38;5;124m'\u001b[39m), (\u001b[38;5;124m'\u001b[39m\u001b[38;5;124mF\u001b[39m\u001b[38;5;124m'\u001b[39m, \u001b[38;5;124m'\u001b[39m\u001b[38;5;124mJ\u001b[39m\u001b[38;5;124m'\u001b[39m),\n\u001b[0;32m      5\u001b[0m     (\u001b[38;5;124m'\u001b[39m\u001b[38;5;124mG\u001b[39m\u001b[38;5;124m'\u001b[39m, \u001b[38;5;124m'\u001b[39m\u001b[38;5;124mH\u001b[39m\u001b[38;5;124m'\u001b[39m), (\u001b[38;5;124m'\u001b[39m\u001b[38;5;124mH\u001b[39m\u001b[38;5;124m'\u001b[39m, \u001b[38;5;124m'\u001b[39m\u001b[38;5;124mI\u001b[39m\u001b[38;5;124m'\u001b[39m), (\u001b[38;5;124m'\u001b[39m\u001b[38;5;124mI\u001b[39m\u001b[38;5;124m'\u001b[39m, \u001b[38;5;124m'\u001b[39m\u001b[38;5;124mJ\u001b[39m\u001b[38;5;124m'\u001b[39m), (\u001b[38;5;124m'\u001b[39m\u001b[38;5;124mI\u001b[39m\u001b[38;5;124m'\u001b[39m, \u001b[38;5;124m'\u001b[39m\u001b[38;5;124mA\u001b[39m\u001b[38;5;124m'\u001b[39m), (\u001b[38;5;124m'\u001b[39m\u001b[38;5;124mI\u001b[39m\u001b[38;5;124m'\u001b[39m, \u001b[38;5;124m'\u001b[39m\u001b[38;5;124mD\u001b[39m\u001b[38;5;124m'\u001b[39m),\n\u001b[0;32m      6\u001b[0m     (\u001b[38;5;124m'\u001b[39m\u001b[38;5;124mJ\u001b[39m\u001b[38;5;124m'\u001b[39m, \u001b[38;5;124m'\u001b[39m\u001b[38;5;124mK\u001b[39m\u001b[38;5;124m'\u001b[39m), (\u001b[38;5;124m'\u001b[39m\u001b[38;5;124mK\u001b[39m\u001b[38;5;124m'\u001b[39m, \u001b[38;5;124m'\u001b[39m\u001b[38;5;124mL\u001b[39m\u001b[38;5;124m'\u001b[39m), (\u001b[38;5;124m'\u001b[39m\u001b[38;5;124mL\u001b[39m\u001b[38;5;124m'\u001b[39m, \u001b[38;5;124m'\u001b[39m\u001b[38;5;124mA\u001b[39m\u001b[38;5;124m'\u001b[39m), (\u001b[38;5;124m'\u001b[39m\u001b[38;5;124mL\u001b[39m\u001b[38;5;124m'\u001b[39m, \u001b[38;5;124m'\u001b[39m\u001b[38;5;124mD\u001b[39m\u001b[38;5;124m'\u001b[39m), (\u001b[38;5;124m'\u001b[39m\u001b[38;5;124mL\u001b[39m\u001b[38;5;124m'\u001b[39m, \u001b[38;5;124m'\u001b[39m\u001b[38;5;124mG\u001b[39m\u001b[38;5;124m'\u001b[39m)\n\u001b[0;32m      7\u001b[0m ]\n\u001b[0;32m      8\u001b[0m valid_pair_set \u001b[38;5;241m=\u001b[39m \u001b[38;5;28mset\u001b[39m(valid_pairs)\n",
      "Cell \u001b[1;32mIn[10], line 36\u001b[0m, in \u001b[0;36mpick_pattern_template_and_syllables\u001b[1;34m(condition)\u001b[0m\n\u001b[0;32m     34\u001b[0m patterns \u001b[38;5;241m=\u001b[39m generate_simple_pattern(\u001b[38;5;241m96\u001b[39m) \u001b[38;5;28;01mif\u001b[39;00m condition \u001b[38;5;241m==\u001b[39m \u001b[38;5;124m'\u001b[39m\u001b[38;5;124msimple\u001b[39m\u001b[38;5;124m'\u001b[39m \u001b[38;5;28;01melse\u001b[39;00m generate_complex_pattern(\u001b[38;5;241m96\u001b[39m)\n\u001b[0;32m     35\u001b[0m \u001b[38;5;66;03m# Flatten the patterns if they are lists of lists\u001b[39;00m\n\u001b[1;32m---> 36\u001b[0m patterns \u001b[38;5;241m=\u001b[39m \u001b[43m[\u001b[49m\u001b[43mitem\u001b[49m\u001b[43m \u001b[49m\u001b[38;5;28;43;01mfor\u001b[39;49;00m\u001b[43m \u001b[49m\u001b[43msublist\u001b[49m\u001b[43m \u001b[49m\u001b[38;5;129;43;01min\u001b[39;49;00m\u001b[43m \u001b[49m\u001b[43mpatterns\u001b[49m\u001b[43m \u001b[49m\u001b[38;5;28;43;01mfor\u001b[39;49;00m\u001b[43m \u001b[49m\u001b[43mitem\u001b[49m\u001b[43m \u001b[49m\u001b[38;5;129;43;01min\u001b[39;49;00m\u001b[43m \u001b[49m\u001b[43msublist\u001b[49m\u001b[43m]\u001b[49m\n\u001b[0;32m     37\u001b[0m \u001b[38;5;66;03m# Randomly shuffle the patterns\u001b[39;00m\n\u001b[0;32m     38\u001b[0m random\u001b[38;5;241m.\u001b[39mshuffle(patterns)\n",
      "Cell \u001b[1;32mIn[10], line 36\u001b[0m, in \u001b[0;36m<listcomp>\u001b[1;34m(.0)\u001b[0m\n\u001b[0;32m     34\u001b[0m patterns \u001b[38;5;241m=\u001b[39m generate_simple_pattern(\u001b[38;5;241m96\u001b[39m) \u001b[38;5;28;01mif\u001b[39;00m condition \u001b[38;5;241m==\u001b[39m \u001b[38;5;124m'\u001b[39m\u001b[38;5;124msimple\u001b[39m\u001b[38;5;124m'\u001b[39m \u001b[38;5;28;01melse\u001b[39;00m generate_complex_pattern(\u001b[38;5;241m96\u001b[39m)\n\u001b[0;32m     35\u001b[0m \u001b[38;5;66;03m# Flatten the patterns if they are lists of lists\u001b[39;00m\n\u001b[1;32m---> 36\u001b[0m patterns \u001b[38;5;241m=\u001b[39m \u001b[43m[\u001b[49m\u001b[43mitem\u001b[49m\u001b[43m \u001b[49m\u001b[38;5;28;43;01mfor\u001b[39;49;00m\u001b[43m \u001b[49m\u001b[43msublist\u001b[49m\u001b[43m \u001b[49m\u001b[38;5;129;43;01min\u001b[39;49;00m\u001b[43m \u001b[49m\u001b[43mpatterns\u001b[49m\u001b[43m \u001b[49m\u001b[38;5;28;43;01mfor\u001b[39;49;00m\u001b[43m \u001b[49m\u001b[43mitem\u001b[49m\u001b[43m \u001b[49m\u001b[38;5;129;43;01min\u001b[39;49;00m\u001b[43m \u001b[49m\u001b[43msublist\u001b[49m\u001b[43m]\u001b[49m\n\u001b[0;32m     37\u001b[0m \u001b[38;5;66;03m# Randomly shuffle the patterns\u001b[39;00m\n\u001b[0;32m     38\u001b[0m random\u001b[38;5;241m.\u001b[39mshuffle(patterns)\n",
      "\u001b[1;31mTypeError\u001b[0m: 'int' object is not iterable"
     ]
    }
   ],
   "source": [
    "interweaved_sequence = interweave(word_seq, pick_pattern_template_and_syllables('simple'))\n",
    "valid_pairs = [\n",
    "    ('A', 'B'), ('B', 'C'), ('C', 'D'), ('C', 'G'), ('C', 'J'),\n",
    "    ('D', 'E'), ('E', 'F'), ('F', 'G'), ('F', 'A'), ('F', 'J'),\n",
    "    ('G', 'H'), ('H', 'I'), ('I', 'J'), ('I', 'A'), ('I', 'D'),\n",
    "    ('J', 'K'), ('K', 'L'), ('L', 'A'), ('L', 'D'), ('L', 'G')\n",
    "]\n",
    "valid_pair_set = set(valid_pairs)\n",
    "pair_transition_freq = defaultdict(lambda: defaultdict(int))\n",
    "\n",
    "# Regular counting for all but the last pair\n",
    "for i in range(0, len(interweaved_sequence) - 2, 2):  # Step through individual pairs\n",
    "    current_pair = (interweaved_sequence[i], interweaved_sequence[i + 2])\n",
    "    # Only count if current pair is valid\n",
    "    if current_pair in valid_pair_set:\n",
    "        silence_value = interweaved_sequence[i + 1]\n",
    "        pair_transition_freq[current_pair][silence_value] += 1\n",
    "\n",
    "# This checks if such a pair (last-first) is a valid pair to be counted\n",
    "if len(interweaved_sequence) > 2:  # Ensure there are enough elements for a wrap-around\n",
    "    last_pair = (interweaved_sequence[-2], interweaved_sequence[0])\n",
    "    last_silence = interweaved_sequence[-1]\n",
    "    if last_pair in valid_pair_set:\n",
    "        pair_transition_freq[last_pair][last_silence] += 1\n",
    "\n",
    "# Convert the frequency table to a DataFrame for analysis and display\n",
    "df_pair_transitions = pd.DataFrame(pair_transition_freq).T.fillna(0).astype(int)\n",
    "df_pair_transitions['Total'] = df_pair_transitions.sum(axis=1)\n",
    "df_pair_transitions.sort_values('Total', ascending=False, inplace=True)\n",
    "df_pair_transitions = df_pair_transitions.sort_index(axis=1)  # Sorting for better visualization and consistency\n",
    "\n",
    "# Display the refined frequency table\n",
    "print(\"Simple Transitional Frequencies\"), print()\n",
    "display(df_pair_transitions)\n"
   ]
  },
  {
   "cell_type": "code",
   "execution_count": 12,
   "metadata": {},
   "outputs": [
    {
     "name": "stdout",
     "output_type": "stream",
     "text": [
      "[1, 2, 1, 2, 3, 2, 3, 4, 3, 4, 5, 4, 5, 6, 5, 6, 7, 6, 7, 8, 7, 8, 9, 8, 9, 10, 9, 10, 11, 10, 11, 12, 11, 12, 13, 12, 13, 14, 13, 14, 15, 14, 15, 16, 15, 16, 17, 16, 17, 18, 17, 18, 19, 18, 19, 20, 19, 20, 21, 20, 21, 22, 21, 22, 23, 22, 23, 24, 23, 24, 25, 24, 25, 26, 25, 26, 27, 26, 27, 28, 27, 28, 29, 28, 29, 30, 29, 30, 31, 30, 31, 32, 31, 32, 33, 32]\n"
     ]
    },
    {
     "ename": "TypeError",
     "evalue": "'int' object is not iterable",
     "output_type": "error",
     "traceback": [
      "\u001b[1;31m---------------------------------------------------------------------------\u001b[0m",
      "\u001b[1;31mTypeError\u001b[0m                                 Traceback (most recent call last)",
      "Cell \u001b[1;32mIn[12], line 1\u001b[0m\n\u001b[1;32m----> 1\u001b[0m interweaved_sequence \u001b[38;5;241m=\u001b[39m interweave(word_seq, \u001b[43mpick_pattern_template_and_syllables\u001b[49m\u001b[43m(\u001b[49m\u001b[38;5;124;43m'\u001b[39;49m\u001b[38;5;124;43mcomplex\u001b[39;49m\u001b[38;5;124;43m'\u001b[39;49m\u001b[43m)\u001b[49m)\n\u001b[0;32m      2\u001b[0m valid_pairs \u001b[38;5;241m=\u001b[39m [\n\u001b[0;32m      3\u001b[0m     (\u001b[38;5;124m'\u001b[39m\u001b[38;5;124mA\u001b[39m\u001b[38;5;124m'\u001b[39m, \u001b[38;5;124m'\u001b[39m\u001b[38;5;124mB\u001b[39m\u001b[38;5;124m'\u001b[39m), (\u001b[38;5;124m'\u001b[39m\u001b[38;5;124mB\u001b[39m\u001b[38;5;124m'\u001b[39m, \u001b[38;5;124m'\u001b[39m\u001b[38;5;124mC\u001b[39m\u001b[38;5;124m'\u001b[39m), (\u001b[38;5;124m'\u001b[39m\u001b[38;5;124mC\u001b[39m\u001b[38;5;124m'\u001b[39m, \u001b[38;5;124m'\u001b[39m\u001b[38;5;124mD\u001b[39m\u001b[38;5;124m'\u001b[39m), (\u001b[38;5;124m'\u001b[39m\u001b[38;5;124mC\u001b[39m\u001b[38;5;124m'\u001b[39m, \u001b[38;5;124m'\u001b[39m\u001b[38;5;124mG\u001b[39m\u001b[38;5;124m'\u001b[39m), (\u001b[38;5;124m'\u001b[39m\u001b[38;5;124mC\u001b[39m\u001b[38;5;124m'\u001b[39m, \u001b[38;5;124m'\u001b[39m\u001b[38;5;124mJ\u001b[39m\u001b[38;5;124m'\u001b[39m),\n\u001b[0;32m      4\u001b[0m     (\u001b[38;5;124m'\u001b[39m\u001b[38;5;124mD\u001b[39m\u001b[38;5;124m'\u001b[39m, \u001b[38;5;124m'\u001b[39m\u001b[38;5;124mE\u001b[39m\u001b[38;5;124m'\u001b[39m), (\u001b[38;5;124m'\u001b[39m\u001b[38;5;124mE\u001b[39m\u001b[38;5;124m'\u001b[39m, \u001b[38;5;124m'\u001b[39m\u001b[38;5;124mF\u001b[39m\u001b[38;5;124m'\u001b[39m), (\u001b[38;5;124m'\u001b[39m\u001b[38;5;124mF\u001b[39m\u001b[38;5;124m'\u001b[39m, \u001b[38;5;124m'\u001b[39m\u001b[38;5;124mG\u001b[39m\u001b[38;5;124m'\u001b[39m), (\u001b[38;5;124m'\u001b[39m\u001b[38;5;124mF\u001b[39m\u001b[38;5;124m'\u001b[39m, \u001b[38;5;124m'\u001b[39m\u001b[38;5;124mA\u001b[39m\u001b[38;5;124m'\u001b[39m), (\u001b[38;5;124m'\u001b[39m\u001b[38;5;124mF\u001b[39m\u001b[38;5;124m'\u001b[39m, \u001b[38;5;124m'\u001b[39m\u001b[38;5;124mJ\u001b[39m\u001b[38;5;124m'\u001b[39m),\n\u001b[0;32m      5\u001b[0m     (\u001b[38;5;124m'\u001b[39m\u001b[38;5;124mG\u001b[39m\u001b[38;5;124m'\u001b[39m, \u001b[38;5;124m'\u001b[39m\u001b[38;5;124mH\u001b[39m\u001b[38;5;124m'\u001b[39m), (\u001b[38;5;124m'\u001b[39m\u001b[38;5;124mH\u001b[39m\u001b[38;5;124m'\u001b[39m, \u001b[38;5;124m'\u001b[39m\u001b[38;5;124mI\u001b[39m\u001b[38;5;124m'\u001b[39m), (\u001b[38;5;124m'\u001b[39m\u001b[38;5;124mI\u001b[39m\u001b[38;5;124m'\u001b[39m, \u001b[38;5;124m'\u001b[39m\u001b[38;5;124mJ\u001b[39m\u001b[38;5;124m'\u001b[39m), (\u001b[38;5;124m'\u001b[39m\u001b[38;5;124mI\u001b[39m\u001b[38;5;124m'\u001b[39m, \u001b[38;5;124m'\u001b[39m\u001b[38;5;124mA\u001b[39m\u001b[38;5;124m'\u001b[39m), (\u001b[38;5;124m'\u001b[39m\u001b[38;5;124mI\u001b[39m\u001b[38;5;124m'\u001b[39m, \u001b[38;5;124m'\u001b[39m\u001b[38;5;124mD\u001b[39m\u001b[38;5;124m'\u001b[39m),\n\u001b[0;32m      6\u001b[0m     (\u001b[38;5;124m'\u001b[39m\u001b[38;5;124mJ\u001b[39m\u001b[38;5;124m'\u001b[39m, \u001b[38;5;124m'\u001b[39m\u001b[38;5;124mK\u001b[39m\u001b[38;5;124m'\u001b[39m), (\u001b[38;5;124m'\u001b[39m\u001b[38;5;124mK\u001b[39m\u001b[38;5;124m'\u001b[39m, \u001b[38;5;124m'\u001b[39m\u001b[38;5;124mL\u001b[39m\u001b[38;5;124m'\u001b[39m), (\u001b[38;5;124m'\u001b[39m\u001b[38;5;124mL\u001b[39m\u001b[38;5;124m'\u001b[39m, \u001b[38;5;124m'\u001b[39m\u001b[38;5;124mA\u001b[39m\u001b[38;5;124m'\u001b[39m), (\u001b[38;5;124m'\u001b[39m\u001b[38;5;124mL\u001b[39m\u001b[38;5;124m'\u001b[39m, \u001b[38;5;124m'\u001b[39m\u001b[38;5;124mD\u001b[39m\u001b[38;5;124m'\u001b[39m), (\u001b[38;5;124m'\u001b[39m\u001b[38;5;124mL\u001b[39m\u001b[38;5;124m'\u001b[39m, \u001b[38;5;124m'\u001b[39m\u001b[38;5;124mG\u001b[39m\u001b[38;5;124m'\u001b[39m)\n\u001b[0;32m      7\u001b[0m ]\n\u001b[0;32m      8\u001b[0m valid_pair_set \u001b[38;5;241m=\u001b[39m \u001b[38;5;28mset\u001b[39m(valid_pairs)\n",
      "Cell \u001b[1;32mIn[10], line 36\u001b[0m, in \u001b[0;36mpick_pattern_template_and_syllables\u001b[1;34m(condition)\u001b[0m\n\u001b[0;32m     34\u001b[0m patterns \u001b[38;5;241m=\u001b[39m generate_simple_pattern(\u001b[38;5;241m96\u001b[39m) \u001b[38;5;28;01mif\u001b[39;00m condition \u001b[38;5;241m==\u001b[39m \u001b[38;5;124m'\u001b[39m\u001b[38;5;124msimple\u001b[39m\u001b[38;5;124m'\u001b[39m \u001b[38;5;28;01melse\u001b[39;00m generate_complex_pattern(\u001b[38;5;241m96\u001b[39m)\n\u001b[0;32m     35\u001b[0m \u001b[38;5;66;03m# Flatten the patterns if they are lists of lists\u001b[39;00m\n\u001b[1;32m---> 36\u001b[0m patterns \u001b[38;5;241m=\u001b[39m \u001b[43m[\u001b[49m\u001b[43mitem\u001b[49m\u001b[43m \u001b[49m\u001b[38;5;28;43;01mfor\u001b[39;49;00m\u001b[43m \u001b[49m\u001b[43msublist\u001b[49m\u001b[43m \u001b[49m\u001b[38;5;129;43;01min\u001b[39;49;00m\u001b[43m \u001b[49m\u001b[43mpatterns\u001b[49m\u001b[43m \u001b[49m\u001b[38;5;28;43;01mfor\u001b[39;49;00m\u001b[43m \u001b[49m\u001b[43mitem\u001b[49m\u001b[43m \u001b[49m\u001b[38;5;129;43;01min\u001b[39;49;00m\u001b[43m \u001b[49m\u001b[43msublist\u001b[49m\u001b[43m]\u001b[49m\n\u001b[0;32m     37\u001b[0m \u001b[38;5;66;03m# Randomly shuffle the patterns\u001b[39;00m\n\u001b[0;32m     38\u001b[0m random\u001b[38;5;241m.\u001b[39mshuffle(patterns)\n",
      "Cell \u001b[1;32mIn[10], line 36\u001b[0m, in \u001b[0;36m<listcomp>\u001b[1;34m(.0)\u001b[0m\n\u001b[0;32m     34\u001b[0m patterns \u001b[38;5;241m=\u001b[39m generate_simple_pattern(\u001b[38;5;241m96\u001b[39m) \u001b[38;5;28;01mif\u001b[39;00m condition \u001b[38;5;241m==\u001b[39m \u001b[38;5;124m'\u001b[39m\u001b[38;5;124msimple\u001b[39m\u001b[38;5;124m'\u001b[39m \u001b[38;5;28;01melse\u001b[39;00m generate_complex_pattern(\u001b[38;5;241m96\u001b[39m)\n\u001b[0;32m     35\u001b[0m \u001b[38;5;66;03m# Flatten the patterns if they are lists of lists\u001b[39;00m\n\u001b[1;32m---> 36\u001b[0m patterns \u001b[38;5;241m=\u001b[39m \u001b[43m[\u001b[49m\u001b[43mitem\u001b[49m\u001b[43m \u001b[49m\u001b[38;5;28;43;01mfor\u001b[39;49;00m\u001b[43m \u001b[49m\u001b[43msublist\u001b[49m\u001b[43m \u001b[49m\u001b[38;5;129;43;01min\u001b[39;49;00m\u001b[43m \u001b[49m\u001b[43mpatterns\u001b[49m\u001b[43m \u001b[49m\u001b[38;5;28;43;01mfor\u001b[39;49;00m\u001b[43m \u001b[49m\u001b[43mitem\u001b[49m\u001b[43m \u001b[49m\u001b[38;5;129;43;01min\u001b[39;49;00m\u001b[43m \u001b[49m\u001b[43msublist\u001b[49m\u001b[43m]\u001b[49m\n\u001b[0;32m     37\u001b[0m \u001b[38;5;66;03m# Randomly shuffle the patterns\u001b[39;00m\n\u001b[0;32m     38\u001b[0m random\u001b[38;5;241m.\u001b[39mshuffle(patterns)\n",
      "\u001b[1;31mTypeError\u001b[0m: 'int' object is not iterable"
     ]
    }
   ],
   "source": [
    "interweaved_sequence = interweave(word_seq, pick_pattern_template_and_syllables('complex'))\n",
    "valid_pairs = [\n",
    "    ('A', 'B'), ('B', 'C'), ('C', 'D'), ('C', 'G'), ('C', 'J'),\n",
    "    ('D', 'E'), ('E', 'F'), ('F', 'G'), ('F', 'A'), ('F', 'J'),\n",
    "    ('G', 'H'), ('H', 'I'), ('I', 'J'), ('I', 'A'), ('I', 'D'),\n",
    "    ('J', 'K'), ('K', 'L'), ('L', 'A'), ('L', 'D'), ('L', 'G')\n",
    "]\n",
    "valid_pair_set = set(valid_pairs)\n",
    "pair_transition_freq = defaultdict(lambda: defaultdict(int))\n",
    "\n",
    "# Regular counting for all but the last pair\n",
    "for i in range(0, len(interweaved_sequence) - 2, 2):  # Step through individual pairs\n",
    "    current_pair = (interweaved_sequence[i], interweaved_sequence[i + 2])\n",
    "    # Only count if current pair is valid\n",
    "    if current_pair in valid_pair_set:\n",
    "        silence_value = interweaved_sequence[i + 1]\n",
    "        pair_transition_freq[current_pair][silence_value] += 1\n",
    "\n",
    "# This checks if such a pair (last-first) is a valid pair to be counted\n",
    "if len(interweaved_sequence) > 2:  # Ensure there are enough elements for a wrap-around\n",
    "    last_pair = (interweaved_sequence[-2], interweaved_sequence[0])\n",
    "    last_silence = interweaved_sequence[-1]\n",
    "    if last_pair in valid_pair_set:\n",
    "        pair_transition_freq[last_pair][last_silence] += 1\n",
    "\n",
    "# Convert the frequency table to a DataFrame for analysis and display\n",
    "df_pair_transitions = pd.DataFrame(pair_transition_freq).T.fillna(0).astype(int)\n",
    "df_pair_transitions['Total'] = df_pair_transitions.sum(axis=1)\n",
    "df_pair_transitions.sort_values('Total', ascending=False, inplace=True)\n",
    "df_pair_transitions = df_pair_transitions.sort_index(axis=1)  # Sorting for better visualization and consistency\n",
    "\n",
    "# Display the refined frequency table\n",
    "print(\"Complex Transitional Frequencies\"), print()\n",
    "display(df_pair_transitions)\n"
   ]
  },
  {
   "cell_type": "code",
   "execution_count": 35,
   "metadata": {},
   "outputs": [],
   "source": [
    "def generate_pattern_file(condition, filename, num_patterns):\n",
    "    # Open the file in write mode\n",
    "    with open(filename, 'w') as f:\n",
    "        # Generate the specified number of patterns\n",
    "        for _ in range(num_patterns):\n",
    "            # Generate a pattern\n",
    "            pattern = pick_pattern_template_and_syllables(condition)\n",
    "            # Write the pattern to the file, followed by a newline\n",
    "            f.write(pattern + '\\n')\n",
    "\n",
    "# Call the function to generate a file with 1000 patterns\n",
    "# generate_pattern_file('complex', 'complex_patterns.txt', 100)\n",
    "# generate_pattern_file('simple', 'simple_patterns.txt', 100)"
   ]
  },
  {
   "cell_type": "code",
   "execution_count": 1,
   "metadata": {},
   "outputs": [
    {
     "name": "stdout",
     "output_type": "stream",
     "text": [
      "Transitions: Counter({('A', 'B'): 6, ('B', 'C'): 6, ('D', 'E'): 6, ('E', 'F'): 6, ('G', 'H'): 6, ('H', 'I'): 6, ('J', 'K'): 6, ('K', 'L'): 6, ('C', 'D'): 4, ('F', 'J'): 4, ('L', 'A'): 3, ('F', 'G'): 2, ('I', 'J'): 2, ('L', 'G'): 2, ('I', 'A'): 2, ('C', 'G'): 2, ('I', 'D'): 2})\n"
     ]
    }
   ],
   "source": [
    "from collections import Counter\n",
    "\n",
    "# Example sequence, simplified for clarity\n",
    "word_seq = ['ABC', 'DEF', 'GHI', 'JKL', 'ABC', 'DEF', 'JKL', 'GHI', 'ABC', 'GHI', 'DEF', 'JKL'] * 2\n",
    "\n",
    "# Flatten the word sequence into a continuous string of syllables\n",
    "syllable_sequence = ''.join(word_seq)\n",
    "\n",
    "# Function to count transitions\n",
    "def count_transitions(seq):\n",
    "    return Counter((seq[i], seq[i+1]) for i in range(len(seq) - 1))\n",
    "\n",
    "# Counting transitions\n",
    "transitions = count_transitions(syllable_sequence)\n",
    "print(\"Transitions:\", transitions)\n"
   ]
  },
  {
   "cell_type": "code",
   "execution_count": null,
   "metadata": {},
   "outputs": [],
   "source": []
  }
 ],
 "metadata": {
  "kernelspec": {
   "display_name": "Python 3",
   "language": "python",
   "name": "python3"
  },
  "language_info": {
   "codemirror_mode": {
    "name": "ipython",
    "version": 3
   },
   "file_extension": ".py",
   "mimetype": "text/x-python",
   "name": "python",
   "nbconvert_exporter": "python",
   "pygments_lexer": "ipython3",
   "version": "3.11.7"
  }
 },
 "nbformat": 4,
 "nbformat_minor": 2
}
